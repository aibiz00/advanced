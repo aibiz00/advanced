{
 "cells": [
  {
   "cell_type": "markdown",
   "metadata": {},
   "source": [
    "## 고급과정 평가\n",
    "## 날짜 :\n",
    "## 이름 :\n",
    "## 사번 :\n",
    "\n",
    "FashinMNIST를 이용한 이미지 분류"
   ]
  },
  {
   "cell_type": "code",
   "execution_count": 1,
   "metadata": {
    "id": "gpE9zNm8vgIx"
   },
   "outputs": [],
   "source": [
    "# 필요한 라이브러리 import"
   ]
  },
  {
   "cell_type": "code",
   "execution_count": null,
   "metadata": {
    "id": "PsS9GD0_z1gF"
   },
   "outputs": [],
   "source": []
  },
  {
   "cell_type": "code",
   "execution_count": 2,
   "metadata": {
    "id": "gpE9zNm8vgIx"
   },
   "outputs": [],
   "source": [
    "# random seed를 고정하여 학습 결과가 재현성 있도록 만드세요\n",
    "# 알고 계신 random seed는 다 고정하세요"
   ]
  },
  {
   "cell_type": "code",
   "execution_count": null,
   "metadata": {},
   "outputs": [],
   "source": []
  },
  {
   "cell_type": "code",
   "execution_count": 3,
   "metadata": {
    "id": "6GEuifwu1BVF"
   },
   "outputs": [],
   "source": [
    "# 데이터셋 불러오기 train데이터와 test 데이터\n",
    "# 전처리는 텐서화와 정규화(평균 0.1307, 표준편차 0.3081) 진행\n",
    "# 학습과정에서는 randomrotation 및 randomgorizontalflip 추가\n",
    "# 데이터셋은 0~3 번 class만 사용할 예정임니다 필요없는 데이터는 삭제하세요."
   ]
  },
  {
   "cell_type": "code",
   "execution_count": null,
   "metadata": {
    "id": "06vmKrfJ1HW8"
   },
   "outputs": [],
   "source": []
  },
  {
   "cell_type": "code",
   "execution_count": 4,
   "metadata": {
    "id": "8I_yHCeo3fl7"
   },
   "outputs": [],
   "source": [
    "# 데이터셋을 순회하고 시각화하기\n",
    "# 아래와 같은 label map 변수를 선언하고\n",
    "# 데이터셋을 4x4 subplot을 생성하여 label, image를 random하게 16개 시각화 해보세요\n",
    "\n",
    "# 0 : \"T-Shirt\",\n",
    "# 1: \"Trouser\",\n",
    "# 2: \"Pullover\",\n",
    "# 3: \"Dress\","
   ]
  },
  {
   "cell_type": "code",
   "execution_count": null,
   "metadata": {
    "colab": {
     "base_uri": "https://localhost:8080/",
     "height": 675
    },
    "id": "qa5XEw2T3jNx",
    "outputId": "111ef60c-455a-4d20-f533-62783f814eaf"
   },
   "outputs": [],
   "source": []
  },
  {
   "cell_type": "code",
   "execution_count": 5,
   "metadata": {
    "id": "Y6aF6oH8-slY"
   },
   "outputs": [],
   "source": [
    "# DataLoader로 학습용 데이터 준비하기\n",
    "# Shuffle은 True로하고 Batch size는 32 생성"
   ]
  },
  {
   "cell_type": "code",
   "execution_count": null,
   "metadata": {
    "id": "J8cFTDPE-y08"
   },
   "outputs": [],
   "source": []
  },
  {
   "cell_type": "code",
   "execution_count": 6,
   "metadata": {
    "id": "N3uSjk1E_FFG"
   },
   "outputs": [],
   "source": [
    "# DataLoader를 통해 순회하기(iterate)\n",
    "# 이미지와 정답(label)을 표시합니다."
   ]
  },
  {
   "cell_type": "code",
   "execution_count": null,
   "metadata": {
    "colab": {
     "base_uri": "https://localhost:8080/",
     "height": 485
    },
    "id": "cZzjDTrT_IqL",
    "outputId": "253242f7-c653-4a62-a981-03454192731b"
   },
   "outputs": [],
   "source": []
  },
  {
   "cell_type": "code",
   "execution_count": 7,
   "metadata": {
    "id": "CxLlIQqpCbGa"
   },
   "outputs": [],
   "source": [
    "# 신경망 모델 구성하기 - 클래스 정의하기\n",
    "# feature extractor를 sequential을 이용해 만드세요.\n",
    "# 구성 layer는 아래와 같습니다.\n",
    "# 1차 conv net : conv2d, relu, maxpool2d, dropout layer 순\n",
    "# cov2d 커널 사이즈 = 5, maxpool 커널 사이즈 = 2, dropout rate =0.25\n",
    "# 2차 convnet : conv2d, relu, maxpool2d, dropout layer 순\n",
    "# cov2d 커널 사이즈 = 3, maxpool 커널 사이즈 = 3, dropout rate =0.25\n",
    "\n",
    "# linear함수를 이용하여 sequential을 이용하여 Classifier를 만드세요.\n",
    "# flatten, linear, relu, dropout layer, linear layer를 순차적으로 쌓으세요\n",
    "# dropout rate = 0.2\n",
    "# 이를 통합하여 모델 네트워크를 구성하세요."
   ]
  },
  {
   "cell_type": "code",
   "execution_count": null,
   "metadata": {
    "id": "v3uYsbvfCuJB"
   },
   "outputs": [],
   "source": []
  },
  {
   "cell_type": "code",
   "execution_count": 8,
   "metadata": {
    "id": "-Q9zrTYUDoI0"
   },
   "outputs": [],
   "source": [
    "# 신경망 모델 인스턴스 생성 후 구조 출력"
   ]
  },
  {
   "cell_type": "code",
   "execution_count": null,
   "metadata": {
    "colab": {
     "base_uri": "https://localhost:8080/"
    },
    "id": "hTvN0nzoDwx8",
    "outputId": "1469f369-a166-457c-9ed3-ee4447d15f26"
   },
   "outputs": [],
   "source": []
  },
  {
   "cell_type": "code",
   "execution_count": 9,
   "metadata": {
    "id": "u1I85qPXID1U"
   },
   "outputs": [],
   "source": [
    "# loss function, optimizer 정의"
   ]
  },
  {
   "cell_type": "code",
   "execution_count": null,
   "metadata": {
    "id": "OW8aGeDpIL25"
   },
   "outputs": [],
   "source": []
  },
  {
   "cell_type": "code",
   "execution_count": 10,
   "metadata": {
    "id": "0zeJRs74Izjb"
   },
   "outputs": [],
   "source": [
    "# 최적화 코드를 반복하여 수행하는 train_loop 생성\n",
    "# train 과정에서 loss값이 떨어지는것을 확인 할 수 있도록 epoch에 따라 loss값을 저장하세요.\n",
    "# train이 끝나면 loss값을 epoch에 따라 matplotlib으로 그려보세요."
   ]
  },
  {
   "cell_type": "code",
   "execution_count": null,
   "metadata": {},
   "outputs": [],
   "source": []
  },
  {
   "cell_type": "code",
   "execution_count": 11,
   "metadata": {
    "id": "UQ0nOZKnMeDs"
   },
   "outputs": [],
   "source": [
    "# 테스트 데이터로 모델의 성능을 측정하는 test_loop 함수 정의\n",
    "# 테스트 결과를  accuracy, f1, recall, precision의 성능 지표로 산출하세요"
   ]
  },
  {
   "cell_type": "code",
   "execution_count": null,
   "metadata": {},
   "outputs": [],
   "source": []
  },
  {
   "cell_type": "code",
   "execution_count": 12,
   "metadata": {
    "id": "PDY0V7hAN9Z4"
   },
   "outputs": [],
   "source": [
    "# 모델 저장"
   ]
  },
  {
   "cell_type": "code",
   "execution_count": null,
   "metadata": {
    "colab": {
     "base_uri": "https://localhost:8080/"
    },
    "id": "Tj1dPtGOOO8t",
    "outputId": "931f8661-7db1-49a3-eac2-6174e521fd17"
   },
   "outputs": [],
   "source": []
  },
  {
   "cell_type": "code",
   "execution_count": 13,
   "metadata": {
    "id": "zb07HDxpPJ7s"
   },
   "outputs": [],
   "source": [
    "# 저장된 모델 불러오기\n",
    "\n",
    "# 참고\n",
    "# 추론(inference)을 하기 전에 model.eval() 메소드를 호출하여\n",
    "# 드롭아웃(dropout)과 배치 정규화(batch normalization)를 평가 모드(evaluation mode)로 설정해야 합니다.\n",
    "# 그렇지 않으면 일관성 없는 추론 결과가 생성됩니다."
   ]
  },
  {
   "cell_type": "code",
   "execution_count": null,
   "metadata": {
    "colab": {
     "base_uri": "https://localhost:8080/"
    },
    "id": "JzBZqiSUPRu8",
    "outputId": "8fee8083-1110-4d3c-9cf7-03f4e21c6c9e"
   },
   "outputs": [],
   "source": []
  },
  {
   "cell_type": "code",
   "execution_count": 14,
   "metadata": {
    "id": "bfMoWI8NP3dY"
   },
   "outputs": [],
   "source": [
    "# sample test image 예측 및 시각화\n",
    "# test datat중 일부를 test하고 8x4 로 subplot을 생성하여 시각화하여 정답을 맞췄는지 표기하세요."
   ]
  },
  {
   "cell_type": "code",
   "execution_count": null,
   "metadata": {
    "colab": {
     "base_uri": "https://localhost:8080/",
     "height": 1000
    },
    "id": "N22hUdNFSZ0M",
    "outputId": "86a2d8f6-f5b5-4234-ab00-da27d26abbba"
   },
   "outputs": [],
   "source": []
  },
  {
   "cell_type": "code",
   "execution_count": null,
   "metadata": {},
   "outputs": [],
   "source": [
    "# 이미 학습된 모델을 전체 데이터셋에(모든 class사용) 적용한다고 가정하겠습니다.\n",
    "# 학습된 모델에서 layer 중 classfier를 freeze하여\n",
    "# 향후 업데이트되지 않도록 설정하고 모델 network를 layer별로 freeze가 잘되었는지 print하세요."
   ]
  },
  {
   "cell_type": "code",
   "execution_count": null,
   "metadata": {},
   "outputs": [],
   "source": []
  },
  {
   "cell_type": "code",
   "execution_count": null,
   "metadata": {},
   "outputs": [],
   "source": [
    "# 전체 데이터셋을 dataloader에 업로드하고\n",
    "# freeze모델을 이용하여 finetuning 하세요.\n",
    "# epoch = 3, learning rate = 0.0001"
   ]
  },
  {
   "cell_type": "code",
   "execution_count": null,
   "metadata": {},
   "outputs": [],
   "source": []
  },
  {
   "cell_type": "code",
   "execution_count": null,
   "metadata": {},
   "outputs": [],
   "source": [
    "# sample test image 예측 및 시각화\n",
    "# test datat중 일부를 test하고 8x4 로 subplot을 생성하여 시각화하여 정답을 맞췄는지 표기하세요."
   ]
  },
  {
   "cell_type": "code",
   "execution_count": null,
   "metadata": {},
   "outputs": [],
   "source": []
  }
 ],
 "metadata": {
  "colab": {
   "provenance": []
  },
  "hide_input": false,
  "kernelspec": {
   "display_name": "Python 3 (ipykernel)",
   "language": "python",
   "name": "python3"
  },
  "language_info": {
   "codemirror_mode": {
    "name": "ipython",
    "version": 3
   },
   "file_extension": ".py",
   "mimetype": "text/x-python",
   "name": "python",
   "nbconvert_exporter": "python",
   "pygments_lexer": "ipython3",
   "version": "3.8.10"
  }
 },
 "nbformat": 4,
 "nbformat_minor": 1
}
